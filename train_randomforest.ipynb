{
 "cells": [
  {
   "cell_type": "code",
   "execution_count": null,
   "metadata": {},
   "outputs": [],
   "source": [
    "import os\n",
    "import cv2\n",
    "import numpy as np\n",
    "from sklearn.ensemble import RandomForestClassifier\n",
    "from sklearn.model_selection import train_test_split\n",
    "from sklearn.metrics import accuracy_score\n",
    "import pickle"
   ]
  },
  {
   "cell_type": "code",
   "execution_count": null,
   "metadata": {},
   "outputs": [],
   "source": [
    "# Define the base folder containing the dataset\n",
    "base_folder = r\"C:\\Users\\HP\\Contacts\\Desktop\\Gesture sense\"\n",
    "\n",
    "# Define the list of gesture classes\n",
    "classes = [\"call\", \"dislike\", \"Fist\", \"four\", \"like\", \"one\", \"peace\", \"rock\", \"stop\", \"three\", \"two up\"]\n",
    "\n",
    "# Initialize empty lists to store image data and corresponding labels\n",
    "image_files = []\n",
    "labels = []\n",
    "\n",
    "# Define the target size for resizing the images\n",
    "target_size = (150, 150)"
   ]
  },
  {
   "cell_type": "code",
   "execution_count": null,
   "metadata": {},
   "outputs": [],
   "source": [
    "# Loop through each class folder to load images\n",
    "for class_name in classes:\n",
    "    class_folder = os.path.join(base_folder, \"Data\", class_name)\n",
    "    # Check if the class folder exists\n",
    "    if not os.path.exists(class_folder):\n",
    "        print(f\"Class folder '{class_name}' does not exist.\")\n",
    "        continue\n",
    "    # Loop through the files in the class folder\n",
    "    for filename in os.listdir(class_folder):\n",
    "        if filename.endswith(\".jpg\"):  # Check if the file has the '.jpg' extension\n",
    "            filepath = os.path.join(class_folder, filename)\n",
    "            # Load image using OpenCV\n",
    "            image = cv2.imread(filepath)\n",
    "            if image is not None:  # Check if the image is loaded successfully\n",
    "                # Resize the image to the target size\n",
    "                image = cv2.resize(image, target_size)\n",
    "                # Append the resized image and corresponding class label\n",
    "                image_files.append(image)\n",
    "                labels.append(class_name)\n",
    "            else:\n",
    "                print(f\"Failed to load image: {filename}\")\n",
    "        else:\n",
    "            print(f\"Skipping non-image file: {filename}\")"
   ]
  },
  {
   "cell_type": "code",
   "execution_count": null,
   "metadata": {},
   "outputs": [],
   "source": [
    "# Convert the lists of images and labels into numpy arrays\n",
    "data = np.array(image_files)\n",
    "labels = np.array(labels)"
   ]
  },
  {
   "cell_type": "code",
   "execution_count": null,
   "metadata": {},
   "outputs": [],
   "source": [
    "# Check if there are samples in the dataset\n",
    "if len(data) == 0:\n",
    "    print(\"No images loaded.\")\n",
    "else:\n",
    "    # Print the shapes of the data arrays\n",
    "    print(\"Data shape:\", data.shape)\n",
    "    print(\"Labels shape:\", labels.shape)"
   ]
  },
  {
   "cell_type": "code",
   "execution_count": null,
   "metadata": {},
   "outputs": [],
   "source": [
    "# Split the data into training and testing sets\n",
    "    x_train, x_test, y_train, y_test = train_test_split(data, labels, test_size=0.2, random_state=42)"
   ]
  },
  {
   "cell_type": "code",
   "execution_count": null,
   "metadata": {},
   "outputs": [],
   "source": [
    " # Flatten the image data to make it compatible with the classifier\n",
    "    x_train_flat = x_train.reshape(x_train.shape[0], -1)\n",
    "    x_test_flat = x_test.reshape(x_test.shape[0], -1)\n"
   ]
  },
  {
   "cell_type": "code",
   "execution_count": null,
   "metadata": {},
   "outputs": [],
   "source": [
    " # Initialize the Random Forest classifier with 100 decision trees\n",
    "    model = RandomForestClassifier(n_estimators=100, random_state=42)"
   ]
  },
  {
   "cell_type": "code",
   "execution_count": null,
   "metadata": {},
   "outputs": [],
   "source": [
    " # Initialize the Random Forest classifier with 100 decision trees\n",
    "    model = RandomForestClassifier(n_estimators=100, random_state=42)"
   ]
  },
  {
   "cell_type": "code",
   "execution_count": null,
   "metadata": {},
   "outputs": [],
   "source": [
    " # Train the Random Forest classifier on the training data\n",
    "    model.fit(x_train_flat, y_train)"
   ]
  },
  {
   "cell_type": "code",
   "execution_count": null,
   "metadata": {},
   "outputs": [],
   "source": [
    "# Make predictions on the test set\n",
    "    y_pred = model.predict(x_test_flat)"
   ]
  },
  {
   "cell_type": "code",
   "execution_count": null,
   "metadata": {},
   "outputs": [],
   "source": [
    " # Calculate the accuracy of the model\n",
    "    accuracy = accuracy_score(y_test, y_pred)\n",
    "    print(\"Accuracy:\", accuracy)"
   ]
  },
  {
   "cell_type": "code",
   "execution_count": null,
   "metadata": {},
   "outputs": [],
   "source": [
    " # Save the trained model to a file using pickle\n",
    "    with open(\"hand_gesture_model.pkl\", 'wb') as f:\n",
    "        pickle.dump(model, f)\n",
    "\n",
    "    print(\"Model saved as:\", \"hand_gesture_model.pkl\")\n"
   ]
  }
 ],
 "metadata": {
  "kernelspec": {
   "display_name": "Python 3",
   "language": "python",
   "name": "python3"
  },
  "language_info": {
   "codemirror_mode": {
    "name": "ipython",
    "version": 3
   },
   "file_extension": ".py",
   "mimetype": "text/x-python",
   "name": "python",
   "nbconvert_exporter": "python",
   "pygments_lexer": "ipython3",
   "version": "3.11.6"
  }
 },
 "nbformat": 4,
 "nbformat_minor": 2
}
