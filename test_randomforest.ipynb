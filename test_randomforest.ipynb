{
 "cells": [
  {
   "cell_type": "code",
   "execution_count": null,
   "metadata": {},
   "outputs": [],
   "source": [
    "import cv2\n",
    "from cvzone.HandTrackingModule import HandDetector\n",
    "import numpy as np\n",
    "import os\n",
    "import joblib"
   ]
  },
  {
   "cell_type": "code",
   "execution_count": null,
   "metadata": {},
   "outputs": [],
   "source": [
    "# Load the RandomForestClassifier model\n",
    "model_filename = \"hand_gesture_model.pkl\"\n",
    "try:\n",
    "    with open(model_filename, 'rb') as f:\n",
    "        model = joblib.load(f)  # Load the trained model using joblib\n",
    "except OSError as e:\n",
    "    print(\"Error:\", e)  # Print the error message if the file cannot be opened\n",
    "    print(\"File:\", model_filename)  # Print the filename causing the error\n",
    "    print(\"File exists:\", os.path.exists(model_filename))  # Check if the file exists\n",
    "    exit()  # Exit the program if an error occurs"
   ]
  },
  {
   "cell_type": "code",
   "execution_count": null,
   "metadata": {},
   "outputs": [],
   "source": [
    "cap = cv2.VideoCapture(0)  # Open the default camera\n",
    "detector = HandDetector(maxHands=2)  # Initialize HandDetector for hand tracking\n",
    "imgSize = 300  # Define the size for displaying images\n",
    "offset = 20  # Define the offset for cropping hand region\n",
    "font = cv2.FONT_HERSHEY_SIMPLEX  # Define the font for text rendering\n",
    "fontScale = 1  # Define the font scale for text rendering\n",
    "fontColor = (255, 255, 255)  # Define the font color for text rendering\n",
    "lineType = 2  # Define the line type for text rendering"
   ]
  },
  {
   "cell_type": "code",
   "execution_count": null,
   "metadata": {},
   "outputs": [],
   "source": [
    "while True:  # Main loop for processing each frame\n",
    "    success, img = cap.read()  # Read a frame from the video capture\n",
    "    \n",
    "    hands, img = detector.findHands(img)  # Detect hands in the frame using HandDetector\n",
    "    \n",
    "    if hands:  # If hands are detected\n",
    "        hand = hands[0]  # Get the first detected hand\n",
    "        x, y, w, h = hand['bbox']  # Extract bounding box coordinates of the hand\n",
    "        imgCrop = img[y - offset:y + h + offset, x - offset:x + w + offset]  # Crop the region around the hand\n",
    "\n",
    "        if imgCrop.size != 0:  # Check if the cropped image is not empty\n",
    "            try:\n",
    "                # Resize the cropped image to match the input size expected by the model\n",
    "                imgResize = cv2.resize(imgCrop, (150, 150))  # Assuming the model expects 150x150 images\n",
    "\n",
    "                # Flatten the resized image to create a 1D array\n",
    "                input_data = imgResize.flatten().reshape(1, -1)\n",
    "\n",
    "                # Make prediction using the RandomForestClassifier model\n",
    "                prediction = model.predict(input_data)[0]\n",
    "\n",
    "                # Display the predicted action label near the hand region\n",
    "                cv2.putText(img, prediction, (x, y - 10), font, fontScale, fontColor, lineType)\n",
    "            except cv2.error as e:  # Handle OpenCV errors\n",
    "                print(f\"OpenCV Error: {e}\")\n",
    "            except Exception as e:  # Handle other exceptions\n",
    "                print(f\"Error: {e}\")"
   ]
  },
  {
   "cell_type": "code",
   "execution_count": null,
   "metadata": {},
   "outputs": [],
   "source": [
    " # Display the output image\n",
    "    cv2.imshow(\"Image\", img)"
   ]
  },
  {
   "cell_type": "code",
   "execution_count": null,
   "metadata": {},
   "outputs": [],
   "source": [
    " # Check for key press to exit\n",
    "    if cv2.waitKey(1) & 0xFF == ord('q'):\n",
    "        break\n",
    "\n",
    "# Release the video capture and close all windows\n",
    "cap.release()\n",
    "cv2.destroyAllWindows()\n"
   ]
  }
 ],
 "metadata": {
  "kernelspec": {
   "display_name": "Python 3",
   "language": "python",
   "name": "python3"
  },
  "language_info": {
   "codemirror_mode": {
    "name": "ipython",
    "version": 3
   },
   "file_extension": ".py",
   "mimetype": "text/x-python",
   "name": "python",
   "nbconvert_exporter": "python",
   "pygments_lexer": "ipython3",
   "version": "3.11.6"
  }
 },
 "nbformat": 4,
 "nbformat_minor": 2
}
