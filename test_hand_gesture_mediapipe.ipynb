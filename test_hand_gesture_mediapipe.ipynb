{
 "cells": [
  {
   "cell_type": "code",
   "execution_count": null,
   "metadata": {},
   "outputs": [],
   "source": []
  },
  {
   "cell_type": "code",
   "execution_count": null,
   "metadata": {},
   "outputs": [],
   "source": [
    "import cv2\n",
    "import numpy as np\n",
    "import os\n",
    "import pickle\n",
    "import mediapipe as mp"
   ]
  },
  {
   "cell_type": "code",
   "execution_count": null,
   "metadata": {},
   "outputs": [],
   "source": [
    "# Initialize MediaPipe Hand module\n",
    "mp_hands = mp.solutions.hands\n",
    "hands = mp_hands.Hands(static_image_mode=False, max_num_hands=2, min_detection_confidence=0.5)"
   ]
  },
  {
   "cell_type": "code",
   "execution_count": null,
   "metadata": {},
   "outputs": [],
   "source": [
    "# Load the trained model\n",
    "model_filepath = r\"C:\\Users\\HP\\Contacts\\Desktop\\Gesture sense\\Model\\hand_gesture_model_mediapipe.pkl\"\n",
    "with open(model_filepath, 'rb') as f:\n",
    "    model = pickle.load(f)"
   ]
  },
  {
   "cell_type": "code",
   "execution_count": null,
   "metadata": {},
   "outputs": [],
   "source": [
    "# Define function to preprocess test image\n",
    "def preprocess_image(image):\n",
    "    # Resize the image to match the input size during training\n",
    "    target_size = (150, 150)\n",
    "    resized_image = cv2.resize(image, target_size)\n",
    "    return resized_image"
   ]
  },
  {
   "cell_type": "code",
   "execution_count": null,
   "metadata": {},
   "outputs": [],
   "source": [
    "# Define function to predict gesture\n",
    "def predict_gesture(image):\n",
    "    # Preprocess the image\n",
    "    preprocessed_image = preprocess_image(image)\n",
    "    # Convert image to RGB (MediaPipe requires RGB format)\n",
    "    image_rgb = cv2.cvtColor(preprocessed_image, cv2.COLOR_BGR2RGB)\n",
    "    # Detect hand landmarks using MediaPipe\n",
    "    results = hands.process(image_rgb)\n",
    "    # Check if hand landmarks are detected\n",
    "    if results.multi_hand_landmarks:\n",
    "        hand_landmarks = []\n",
    "        # Extract hand landmarks' coordinates\n",
    "        for hand_landmark in results.multi_hand_landmarks:\n",
    "            landmark_list = [(lm.x, lm.y, lm.z) for lm in hand_landmark.landmark]\n",
    "            hand_landmarks.append(landmark_list)\n",
    "        # Flatten the hand landmarks\n",
    "        hand_landmarks_flat = np.array(hand_landmarks).reshape(len(hand_landmarks), -1)\n",
    "        # Predict gesture using the trained model\n",
    "        gesture_prediction = model.predict(hand_landmarks_flat)\n",
    "        return gesture_prediction\n",
    "    else:\n",
    "        return None"
   ]
  },
  {
   "cell_type": "code",
   "execution_count": null,
   "metadata": {},
   "outputs": [],
   "source": [
    "# Initialize camera capture\n",
    "cap = cv2.VideoCapture(0)\n",
    "\n",
    "while cap.isOpened():\n",
    "    ret, frame = cap.read()\n",
    "    if not ret:\n",
    "        print(\"Error: Failed to capture frame\")\n",
    "        break"
   ]
  },
  {
   "cell_type": "code",
   "execution_count": null,
   "metadata": {},
   "outputs": [],
   "source": [
    "# Perform gesture prediction\n",
    "gesture_prediction = predict_gesture(frame)\n",
    "\n",
    "    if gesture_prediction is not None:\n",
    "        cv2.putText(frame, f\"Gesture: {gesture_prediction}\", (50, 50), cv2.FONT_HERSHEY_SIMPLEX, 1, (0, 255, 0), 2)\n",
    "    \n",
    "    # Display the frame\n",
    "    cv2.imshow('Hand Gesture Recognition', frame)"
   ]
  },
  {
   "cell_type": "code",
   "execution_count": null,
   "metadata": {},
   "outputs": [],
   "source": [
    "  # Check for 'q' key to exit\n",
    "if cv2.waitKey(1) & 0xFF == ord('q'):\n",
    "    break\n",
    "\n",
    "# Release the capture\n",
    "cap.release()\n",
    "cv2.destroyAllWindows()\n"
   ]
  }
 ],
 "metadata": {
  "kernelspec": {
   "display_name": "Python 3",
   "language": "python",
   "name": "python3"
  },
  "language_info": {
   "codemirror_mode": {
    "name": "ipython",
    "version": 3
   },
   "file_extension": ".py",
   "mimetype": "text/x-python",
   "name": "python",
   "nbconvert_exporter": "python",
   "pygments_lexer": "ipython3",
   "version": "3.11.6"
  }
 },
 "nbformat": 4,
 "nbformat_minor": 2
}
