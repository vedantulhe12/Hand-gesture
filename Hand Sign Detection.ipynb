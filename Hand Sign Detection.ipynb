{
 "cells": [
  {
   "cell_type": "code",
   "execution_count": null,
   "metadata": {},
   "outputs": [],
   "source": [
    "import cv2  # Import OpenCV library for image processing\n",
    "from cvzone.HandTrackingModule import HandDetector  # Import HandDetector from cvzone library\n",
    "import numpy as np  # Import NumPy library for numerical operations\n",
    "import math  # Import math library for mathematical functions\n",
    "import time  # Import time library for time-related functions\n",
    "\n"
   ]
  },
  {
   "cell_type": "code",
   "execution_count": null,
   "metadata": {},
   "outputs": [],
   "source": [
    "# Initialize video capture from default webcam and create HandDetector object with maxHands set to 1\n",
    "cap = cv2.VideoCapture(0)\n",
    "detector = HandDetector(maxHands=1)"
   ]
  },
  {
   "cell_type": "code",
   "execution_count": null,
   "metadata": {},
   "outputs": [],
   "source": [
    "# Define variables for cropping and saving images\n",
    "offset = 20  # Offset for cropping hand regions\n",
    "imgSize = 300  # Desired size for cropped images\n",
    "folder = \"Data/stop\"  # Folder path to save images\n",
    "counter = 0  # Counter to keep track of saved images"
   ]
  },
  {
   "cell_type": "code",
   "execution_count": null,
   "metadata": {},
   "outputs": [],
   "source": [
    "# Main loop to capture and process webcam feed\n",
    "while True:\n",
    "    # Read a frame from the webcam feed\n",
    "    success, img = cap.read()\n",
    "    \n",
    "    # Detect hands in the frame\n",
    "    hands, img = detector.findHands(img)"
   ]
  },
  {
   "cell_type": "code",
   "execution_count": null,
   "metadata": {},
   "outputs": [],
   "source": [
    "# If hands are detected, process them\n",
    "    if hands:\n",
    "        hand = hands[0]  # Get information about the first detected hand\n",
    "        x, y, w, h = hand['bbox']  # Extract bounding box coordinates\n",
    "        #x- The x-coordinate of the top-left corner of the bounding box.\n",
    "        #y- The y-coordinate of the top-left corner of the bounding box.\n",
    "        #w-The width of the bounding box.\n",
    "        #h-The height of the bounding box.\n",
    "        \n",
    "        # Ensure hand region is within bounds\n",
    "        x1, y1 = max(0, x - offset), max(0, y - offset)\n",
    "        x2, y2 = min(img.shape[1], x + w + offset), min(img.shape[0], y + h + offset)\n",
    "        imgCrop = img[y1:y2, x1:x2]  # Crop hand region from the frame"
   ]
  },
  {
   "cell_type": "code",
   "execution_count": null,
   "metadata": {},
   "outputs": [],
   "source": [
    " # If cropped image is not empty, resize and save it\n",
    "        if imgCrop.size != 0:\n",
    "            imgWhite = np.ones((imgSize, imgSize, 3), np.uint8) * 255  # Create white background image\n",
    "            imgCropShape = imgCrop.shape  # Get shape of cropped image\n",
    "            aspectRatio = h / w  # Calculate aspect ratio\n",
    "            \n",
    "            # Resize cropped image based on aspect ratio\n",
    "            if aspectRatio > 1:\n",
    "                k = imgSize / h\n",
    "                wCal = math.ceil(k * w)\n",
    "                imgResize = cv2.resize(imgCrop, (wCal, imgSize))\n",
    "                imgResizeShape = imgResize.shape\n",
    "                wGap = math.ceil((imgSize - wCal) / 2)\n",
    "                imgWhite[:, wGap:wCal + wGap] = imgResize\n",
    "            else:\n",
    "                k = imgSize / w\n",
    "                hCal = math.ceil(k * h)\n",
    "                imgResize = cv2.resize(imgCrop, (imgSize, hCal))\n",
    "                imgResizeShape = imgResize.shape\n",
    "                hGap = math.ceil((imgSize - hCal) / 2)\n",
    "                imgWhite[hGap:hCal + hGap, :] = imgResize\n"
   ]
  },
  {
   "cell_type": "code",
   "execution_count": null,
   "metadata": {},
   "outputs": [],
   "source": [
    " # Display cropped and resized image\n",
    "            cv2.imshow(\"ImageCrop\", imgCrop)\n",
    "            cv2.imshow(\"ImageWhite\", imgWhite)"
   ]
  },
  {
   "cell_type": "code",
   "execution_count": null,
   "metadata": {},
   "outputs": [],
   "source": [
    "# Save image when 's' key is pressed\n",
    "            key = cv2.waitKey(1)\n",
    "            if key == ord(\"s\"):\n",
    "                counter += 1\n",
    "                cv2.imwrite(f'{folder}/Image_{time.time()}.jpg', imgWhite)  # Save image with unique filename\n",
    "                print(f\"Saved Image {counter}\")"
   ]
  },
  {
   "cell_type": "code",
   "execution_count": null,
   "metadata": {},
   "outputs": [],
   "source": [
    " # Display total number of saved images on the original frame\n",
    "    cv2.putText(img, f\"Saved Images: {counter}\", (10, 30), cv2.FONT_HERSHEY_SIMPLEX, 1, (0, 255, 0), 2, cv2.LINE_AA)\n",
    "    cv2.imshow(\"Image\", img)  # Display original frame"
   ]
  },
  {
   "cell_type": "code",
   "execution_count": null,
   "metadata": {},
   "outputs": [],
   "source": [
    " # Break the loop if 'q' key is pressed\n",
    "    if cv2.waitKey(1) & 0xFF == ord('q'):\n",
    "        break\n",
    "\n",
    "# Release video capture and close all OpenCV windows\n",
    "cap.release()\n",
    "cv2.destroyAllWindows()\n"
   ]
  }
 ],
 "metadata": {
  "kernelspec": {
   "display_name": "Python 3",
   "language": "python",
   "name": "python3"
  },
  "language_info": {
   "codemirror_mode": {
    "name": "ipython",
    "version": 3
   },
   "file_extension": ".py",
   "mimetype": "text/x-python",
   "name": "python",
   "nbconvert_exporter": "python",
   "pygments_lexer": "ipython3",
   "version": "3.11.6"
  }
 },
 "nbformat": 4,
 "nbformat_minor": 2
}
